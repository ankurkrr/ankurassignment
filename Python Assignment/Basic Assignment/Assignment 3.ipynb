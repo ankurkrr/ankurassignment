{
 "cells": [
  {
   "cell_type": "markdown",
   "id": "993cd810",
   "metadata": {},
   "source": [
    "# ASSIGNMENT 3"
   ]
  },
  {
   "cell_type": "code",
   "execution_count": null,
   "id": "657c28fe",
   "metadata": {},
   "outputs": [],
   "source": [
    " 1. Why are functions advantageous to have in your programs?\n",
    "\n",
    "Ans :- The advantages of using functions are Reducing duplication of code. This makes programs shorter, easier to read, and            easier to update. \n",
    "       Decomposing complex problems into simpler pieces. Improving clarity of the code\n",
    "       The main advantage of functions is code Reusability.\n",
    "       Modifying a program becomes easier by using function"
   ]
  },
  {
   "cell_type": "code",
   "execution_count": null,
   "id": "09ac5367",
   "metadata": {},
   "outputs": [],
   "source": []
  },
  {
   "cell_type": "code",
   "execution_count": null,
   "id": "915e5b5a",
   "metadata": {},
   "outputs": [],
   "source": [
    " 2. When does the code in a function run: when it's specified or when it's called?4\n",
    "\n",
    "Ans :- The code in a function executes when the function is called, not when the function is defined \n",
    "       When a function is \"called\" the program \"leaves\" the current section of code and begins to execute the first line inside        the function"
   ]
  },
  {
   "cell_type": "code",
   "execution_count": null,
   "id": "e3e57410",
   "metadata": {},
   "outputs": [],
   "source": []
  },
  {
   "cell_type": "code",
   "execution_count": null,
   "id": "47bbcbc1",
   "metadata": {},
   "outputs": [],
   "source": [
    "3. What statement creates a function?\n",
    "Ans. def statements defines a function"
   ]
  },
  {
   "cell_type": "code",
   "execution_count": null,
   "id": "a2d14a7c",
   "metadata": {},
   "outputs": [],
   "source": []
  },
  {
   "cell_type": "code",
   "execution_count": null,
   "id": "8a5c546f",
   "metadata": {},
   "outputs": [],
   "source": [
    "4.   What is the difference between a function and a function call?\n",
    "\n",
    "ANS. A function is a block of code that does a particular operation and returns a result. \n",
    "     It usually accepts inputs as parameters and returns a result. The parameters are not mandatory. \n",
    "     A function call is the code used to pass control to a function."
   ]
  },
  {
   "cell_type": "code",
   "execution_count": null,
   "id": "e5f37e8d",
   "metadata": {},
   "outputs": [],
   "source": []
  },
  {
   "cell_type": "code",
   "execution_count": null,
   "id": "929f7b8e",
   "metadata": {},
   "outputs": [],
   "source": [
    "5. How many global scopes are there in a Python program? How many local scopes?\n",
    "\n",
    "   There is one global scope, and a local scope is created whenever a function is called. A variable created inside a function      belongs to the local scope of that function, and can only be used inside that function whereas A variable created in the main    body of the Python code is a global variable and belongs to the global scope."
   ]
  },
  {
   "cell_type": "code",
   "execution_count": null,
   "id": "3f798677",
   "metadata": {},
   "outputs": [],
   "source": []
  },
  {
   "cell_type": "code",
   "execution_count": null,
   "id": "3c589844",
   "metadata": {},
   "outputs": [],
   "source": [
    "6. What happens to variables in a local scope when the function call returns?\n",
    "\n",
    "Ans: When a function returns, the local scope is destroyed, and all the variables in it are forgotten. A local variable becomes      undefined after the function call completes\n",
    "\n"
   ]
  },
  {
   "cell_type": "code",
   "execution_count": null,
   "id": "b96e41d7",
   "metadata": {},
   "outputs": [],
   "source": []
  },
  {
   "cell_type": "code",
   "execution_count": null,
   "id": "8a2d1107",
   "metadata": {},
   "outputs": [],
   "source": [
    "7. What is the concept of a return value? Is it possible to have a return value in an expression?\n",
    "\n",
    "Ans : A return is a value that a function returns to the calling script or function when it completes its task. a return value         can be used as part of an expression."
   ]
  },
  {
   "cell_type": "code",
   "execution_count": null,
   "id": "247b9424",
   "metadata": {},
   "outputs": [],
   "source": []
  },
  {
   "cell_type": "code",
   "execution_count": null,
   "id": "85265f54",
   "metadata": {},
   "outputs": [],
   "source": [
    "8. If a function does not have a return statement, what is the return value of a call to that function?\n",
    "\n",
    "Ans :If a function does not have a return statement, control automatically returns to the calling function after the last statement of the called function is executed. \n",
    "     In this case, the return value of the called function is undefined or its return value None."
   ]
  },
  {
   "cell_type": "code",
   "execution_count": null,
   "id": "fc5c6217",
   "metadata": {},
   "outputs": [],
   "source": []
  },
  {
   "cell_type": "code",
   "execution_count": null,
   "id": "2df5538a",
   "metadata": {},
   "outputs": [],
   "source": [
    "9. How do you make a function variable refer to the global variable?\n",
    "\n",
    "Ans : When you create a variable inside a function, that variable is local, and can only be used inside that function. \n",
    "      To create a global variable inside a function, you can use the global keyword."
   ]
  },
  {
   "cell_type": "code",
   "execution_count": null,
   "id": "3ffa8582",
   "metadata": {},
   "outputs": [],
   "source": []
  },
  {
   "cell_type": "code",
   "execution_count": null,
   "id": "bd538d2f",
   "metadata": {},
   "outputs": [],
   "source": [
    "10. What is the data type of None?\n",
    "\n",
    "Ans : The Datatype of None is Nonetype."
   ]
  },
  {
   "cell_type": "code",
   "execution_count": null,
   "id": "f6287091",
   "metadata": {},
   "outputs": [],
   "source": []
  },
  {
   "cell_type": "code",
   "execution_count": null,
   "id": "1309678f",
   "metadata": {},
   "outputs": [],
   "source": [
    "11. What does the sentence import areallyourpetsnamederic do?\n",
    "\n",
    "Ans : That import statement imports a module named areallyourpetsnamederic."
   ]
  },
  {
   "cell_type": "code",
   "execution_count": null,
   "id": "d500d167",
   "metadata": {},
   "outputs": [],
   "source": []
  },
  {
   "cell_type": "code",
   "execution_count": null,
   "id": "573ac48f",
   "metadata": {},
   "outputs": [],
   "source": [
    "12. If you had a bacon() feature in a spam module, what would you call it after importing spam?\n",
    "Ans : This function can be called with spam.bacon()."
   ]
  },
  {
   "cell_type": "code",
   "execution_count": null,
   "id": "99d6a195",
   "metadata": {},
   "outputs": [],
   "source": []
  },
  {
   "cell_type": "code",
   "execution_count": null,
   "id": "303d90db",
   "metadata": {},
   "outputs": [],
   "source": [
    "13. What can you do to save a programme from crashing if it encounters an error?\n",
    "\n",
    "Ans : When it encounters an error, the control is passed to the except block, skipping the code in between.\n",
    "      We can place the line of code that might cause an error in a try clause and use except block to handle the error.\n",
    "      Try running the program and it should throw an error message instead of crashing the program."
   ]
  },
  {
   "cell_type": "code",
   "execution_count": null,
   "id": "73da9694",
   "metadata": {},
   "outputs": [],
   "source": []
  },
  {
   "cell_type": "code",
   "execution_count": null,
   "id": "f07b851f",
   "metadata": {},
   "outputs": [],
   "source": [
    "14. What is the purpose of the try clause? What is the purpose of the except clause?\n",
    "\n",
    "Ans : The code that could potentially cause an error goes in the try clause. \n",
    "      The code that executes if an error happens goes in the except clause."
   ]
  }
 ],
 "metadata": {
  "kernelspec": {
   "display_name": "Python 3 (ipykernel)",
   "language": "python",
   "name": "python3"
  },
  "language_info": {
   "codemirror_mode": {
    "name": "ipython",
    "version": 3
   },
   "file_extension": ".py",
   "mimetype": "text/x-python",
   "name": "python",
   "nbconvert_exporter": "python",
   "pygments_lexer": "ipython3",
   "version": "3.9.12"
  }
 },
 "nbformat": 4,
 "nbformat_minor": 5
}
