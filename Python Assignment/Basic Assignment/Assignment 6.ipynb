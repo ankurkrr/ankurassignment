{
 "cells": [
  {
   "cell_type": "markdown",
   "id": "d47c1b2c",
   "metadata": {},
   "source": [
    "# ASSIGNMENT 6"
   ]
  },
  {
   "cell_type": "code",
   "execution_count": null,
   "id": "75e302ff",
   "metadata": {},
   "outputs": [],
   "source": []
  },
  {
   "cell_type": "raw",
   "id": "2217b8fa",
   "metadata": {},
   "source": [
    "1. What are escape characters, and how do you use them?\n",
    "\n",
    "Ans: An escape character is a backslash \\ followed by the character you want to insert."
   ]
  },
  {
   "cell_type": "code",
   "execution_count": null,
   "id": "5a9ae4c5",
   "metadata": {},
   "outputs": [],
   "source": []
  },
  {
   "cell_type": "raw",
   "id": "1113d5e5",
   "metadata": {},
   "source": [
    "2. What do the escape characters n and t stand for?\n",
    "\n",
    "Ans : It is used in representing certain whitespace characters: \"\\t\" is a tab, \"\\n\" is a newline."
   ]
  },
  {
   "cell_type": "code",
   "execution_count": null,
   "id": "773d0539",
   "metadata": {},
   "outputs": [],
   "source": []
  },
  {
   "cell_type": "code",
   "execution_count": null,
   "id": "099b2310",
   "metadata": {},
   "outputs": [],
   "source": [
    "3. What is the way to include backslash characters in a string?\n",
    "\n",
    "Ans: The \\\\ escape character will represent the backslash character in a string\n",
    "\n"
   ]
  },
  {
   "cell_type": "code",
   "execution_count": null,
   "id": "5b6a6228",
   "metadata": {},
   "outputs": [],
   "source": []
  },
  {
   "cell_type": "raw",
   "id": "318fd648",
   "metadata": {},
   "source": [
    "4. The string \"Howl's Moving Castle\" is a correct value. Why isn't the single quote character in the\n",
    "   word Howl's not escaped a problem?\n",
    "\n",
    "Ans: The string \"Howl's Moving Castle\" escaped the problem because it is wrapped inside double quotes. if its wrapped inside          single quotes then we have to use escape character \\'"
   ]
  },
  {
   "cell_type": "code",
   "execution_count": null,
   "id": "e1055836",
   "metadata": {},
   "outputs": [],
   "source": []
  },
  {
   "cell_type": "code",
   "execution_count": 1,
   "id": "d85c79b7",
   "metadata": {},
   "outputs": [
    {
     "name": "stdout",
     "output_type": "stream",
     "text": [
      "Hello iNeuron,\n",
      "This Course is Very Good\n"
     ]
    }
   ],
   "source": [
    "#5. How do you write a string of newlines if you don't want to use the n character?\n",
    "\n",
    "#Ans: Multiline string allow you to use newlines in string without the \\n escape character\n",
    "\n",
    "a = '''Hello iNeuron,\n",
    "This Course is Very Good'''\n",
    "print(a)"
   ]
  },
  {
   "cell_type": "code",
   "execution_count": null,
   "id": "3260f55e",
   "metadata": {},
   "outputs": [],
   "source": []
  },
  {
   "cell_type": "code",
   "execution_count": 7,
   "id": "f772b5ed",
   "metadata": {},
   "outputs": [
    {
     "name": "stdout",
     "output_type": "stream",
     "text": [
      "e\n",
      "Hello\n",
      "Hello\n",
      "lo, world!\n"
     ]
    }
   ],
   "source": [
    "#6. What are the values of the given expressions?\n",
    "# 'Hello, world!'[1]   ---> e\n",
    "# 'Hello, world!'[0:5] ---> Hello\n",
    "# 'Hello, world!'[:5]  ---> Hello\n",
    "# 'Hello, world!'[3:]  ---> lo, world!\n",
    "\n",
    "a ='Hello, world!'\n",
    "print(a[1]) \n",
    "print(a[0:5])\n",
    "print(a[:5])\n",
    "print(a[3:])\n"
   ]
  },
  {
   "cell_type": "code",
   "execution_count": null,
   "id": "856937d3",
   "metadata": {},
   "outputs": [],
   "source": []
  },
  {
   "cell_type": "code",
   "execution_count": 10,
   "id": "eddeca6b",
   "metadata": {},
   "outputs": [
    {
     "name": "stdout",
     "output_type": "stream",
     "text": [
      "HELLO\n",
      "True\n",
      "False\n"
     ]
    }
   ],
   "source": [
    "#7. What are the values of the following expressions?\n",
    "\n",
    "# 'Hello'.upper()              ---> HELLO\n",
    "# 'Hello'.upper().isupper()    ---> True\n",
    "# 'Hello'.upper().lower()      ---> False\n",
    "\n",
    "a = 'Hello'\n",
    "print(a.upper())\n",
    "print(a.upper().isupper())\n",
    "print(a.upper().islower())"
   ]
  },
  {
   "cell_type": "code",
   "execution_count": null,
   "id": "f4938ca3",
   "metadata": {},
   "outputs": [],
   "source": []
  },
  {
   "cell_type": "code",
   "execution_count": 12,
   "id": "7c596587",
   "metadata": {},
   "outputs": [
    {
     "name": "stdout",
     "output_type": "stream",
     "text": [
      "['Remember,', 'remember,', 'the', 'fifth', 'of', 'July.']\n",
      "There-can-only-one.\n"
     ]
    }
   ],
   "source": [
    "#8. What are the values of the following expressions?\n",
    "# 'Remember, remember, the fifth of July.'.split()\n",
    "# '-'.join('There can only one.'.split())\n",
    "\n",
    "print('Remember, remember, the fifth of July.'.split())\n",
    "print('-'.join('There can only one.'.split()))"
   ]
  },
  {
   "cell_type": "code",
   "execution_count": null,
   "id": "308ce0c1",
   "metadata": {},
   "outputs": [],
   "source": []
  },
  {
   "cell_type": "code",
   "execution_count": 33,
   "id": "c68b9bd8",
   "metadata": {},
   "outputs": [
    {
     "name": "stdout",
     "output_type": "stream",
     "text": [
      "-------Hello iNeuron\n",
      "Hello iNeuron*****************\n",
      "$$$$$$$$Hello iNeuron$$$$$$$$$\n"
     ]
    }
   ],
   "source": [
    "#9. What are the methods for right-justifying, left-justifying, and centering a string?\n",
    "\n",
    "\n",
    "jst = \"Hello iNeuron\"\n",
    "print(jst.rjust(20,'-'))   #right-justifying\n",
    "print(jst.ljust(30,'*'))   #left-justifying\n",
    "print(jst.center(30,'$'))  #centering"
   ]
  },
  {
   "cell_type": "code",
   "execution_count": null,
   "id": "4c821f73",
   "metadata": {},
   "outputs": [],
   "source": []
  },
  {
   "cell_type": "code",
   "execution_count": 39,
   "id": "abbec403",
   "metadata": {},
   "outputs": [
    {
     "name": "stdout",
     "output_type": "stream",
     "text": [
      "Removing all '*' from left :- iNeuron***\n",
      "Removing all '*' from Right :- ***iNeuron\n",
      "Removing all '*' :- iNeuron\n"
     ]
    }
   ],
   "source": [
    "#10. What is the best way to remove whitespace characters from the start or end?\n",
    "\n",
    "#Ans: The strip(), lstrip() and rstrip() methods remove whitesapce characters from the start or end of a string respectively\n",
    "    \n",
    "str1 = \"***iNeuron***\"\n",
    "print(\"Removing all '*' from left :- \",end=\"\")\n",
    "print(str1.lstrip('*'))\n",
    "\n",
    "print(\"Removing all '*' from Right :- \",end=\"\")\n",
    "print(str1.rstrip('*'))\n",
    "\n",
    "print(\"Removing all '*' :- \",end=\"\")\n",
    "print(str1.strip('*'))\n"
   ]
  },
  {
   "cell_type": "code",
   "execution_count": null,
   "id": "a3cfb9c5",
   "metadata": {},
   "outputs": [],
   "source": []
  }
 ],
 "metadata": {
  "kernelspec": {
   "display_name": "Python 3 (ipykernel)",
   "language": "python",
   "name": "python3"
  },
  "language_info": {
   "codemirror_mode": {
    "name": "ipython",
    "version": 3
   },
   "file_extension": ".py",
   "mimetype": "text/x-python",
   "name": "python",
   "nbconvert_exporter": "python",
   "pygments_lexer": "ipython3",
   "version": "3.9.12"
  }
 },
 "nbformat": 4,
 "nbformat_minor": 5
}
