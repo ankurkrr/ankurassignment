{
 "cells": [
  {
   "cell_type": "markdown",
   "id": "bac17cd9",
   "metadata": {},
   "source": [
    "# ASSIGNMENT 5"
   ]
  },
  {
   "cell_type": "code",
   "execution_count": 1,
   "id": "7225c1a3",
   "metadata": {},
   "outputs": [
    {
     "name": "stdout",
     "output_type": "stream",
     "text": [
      "{}\n",
      "Length : 0\n",
      "<class 'dict'>\n"
     ]
    }
   ],
   "source": [
    "#1. What does an empty dictionary's code look like?\n",
    "\n",
    "#Ans : An empty dictionary is often represented by two empty curly brackets\n",
    "#      d = {} or d = dict()\n",
    "\n",
    "dict = {}\n",
    "\n",
    "print(dict)\n",
    "print('Length :',len(dict))\n",
    "print(type(dict))\n"
   ]
  },
  {
   "cell_type": "code",
   "execution_count": null,
   "id": "d6fbcc77",
   "metadata": {},
   "outputs": [],
   "source": []
  },
  {
   "cell_type": "code",
   "execution_count": null,
   "id": "e04c88a5",
   "metadata": {},
   "outputs": [],
   "source": [
    "2. What is the value of a dictionary value with the key 'foo' and the value 42?\n",
    "\n",
    "Ans : {'foo':42}"
   ]
  },
  {
   "cell_type": "code",
   "execution_count": null,
   "id": "0e3259d6",
   "metadata": {},
   "outputs": [],
   "source": []
  },
  {
   "cell_type": "code",
   "execution_count": null,
   "id": "abf1c097",
   "metadata": {},
   "outputs": [],
   "source": [
    "3. What is the most significant distinction between a dictionary and a list?\n",
    "\n",
    "Ans : List are represented by [] and Dictionary are represented by {}.\n",
    "      A list is an ordered sequence of objects, whereas dictionaries are unordered sets. \n",
    "      Items in dictionaries are accessed via keys and not via their position.\n",
    "      List is a collection of index values pairs as that of array. Dictionary is a hashed structure of key and value pairs. \n",
    "      The indices of list are integers starting from 0. The keys of dictionary can be of any data type.\n",
    "      A single list may contain DataTypes like Integers, Strings, as well as Objects.\n",
    "      Lists are mutable, and hence, they can be altered even after their creation."
   ]
  },
  {
   "cell_type": "code",
   "execution_count": null,
   "id": "e2c74b04",
   "metadata": {},
   "outputs": [],
   "source": []
  },
  {
   "cell_type": "code",
   "execution_count": 2,
   "id": "2819d6e4",
   "metadata": {
    "scrolled": true
   },
   "outputs": [
    {
     "ename": "KeyError",
     "evalue": "'foo'",
     "output_type": "error",
     "traceback": [
      "\u001b[1;31m---------------------------------------------------------------------------\u001b[0m",
      "\u001b[1;31mKeyError\u001b[0m                                  Traceback (most recent call last)",
      "Input \u001b[1;32mIn [2]\u001b[0m, in \u001b[0;36m<cell line: 6>\u001b[1;34m()\u001b[0m\n\u001b[0;32m      1\u001b[0m \u001b[38;5;66;03m#4. What happens if you try to access spam['foo'] if spam is {'bar': 100}?\u001b[39;00m\n\u001b[0;32m      2\u001b[0m \n\u001b[0;32m      3\u001b[0m \u001b[38;5;66;03m#ANS : we will get a keyError KeyError: 'foo'\u001b[39;00m\n\u001b[0;32m      5\u001b[0m spam \u001b[38;5;241m=\u001b[39m {\u001b[38;5;124m'\u001b[39m\u001b[38;5;124mbar\u001b[39m\u001b[38;5;124m'\u001b[39m: \u001b[38;5;241m100\u001b[39m}\n\u001b[1;32m----> 6\u001b[0m \u001b[43mspam\u001b[49m\u001b[43m[\u001b[49m\u001b[38;5;124;43m'\u001b[39;49m\u001b[38;5;124;43mfoo\u001b[39;49m\u001b[38;5;124;43m'\u001b[39;49m\u001b[43m]\u001b[49m\n",
      "\u001b[1;31mKeyError\u001b[0m: 'foo'"
     ]
    }
   ],
   "source": [
    "#4. What happens if you try to access spam['foo'] if spam is {'bar': 100}?\n",
    "\n",
    "#ANS : we will get a keyError KeyError: 'foo'\n",
    "\n",
    "spam = {'bar': 100}\n",
    "spam['foo']"
   ]
  },
  {
   "cell_type": "code",
   "execution_count": null,
   "id": "8fbae4b5",
   "metadata": {},
   "outputs": [],
   "source": []
  },
  {
   "cell_type": "code",
   "execution_count": null,
   "id": "aa6c4ceb",
   "metadata": {},
   "outputs": [],
   "source": [
    "5. If a dictionary is stored in spam, what is the difference between the expressions 'cat' in spam and 'cat' in spam.keys()?\n",
    "\n",
    "Ans : There is no difference. The in operator checks whether a value exists as a key in the dictionary. 'cat' in spam checks           whether there is a 'cat' key in the dictionary."
   ]
  },
  {
   "cell_type": "code",
   "execution_count": null,
   "id": "0b5624b0",
   "metadata": {},
   "outputs": [],
   "source": []
  },
  {
   "cell_type": "code",
   "execution_count": null,
   "id": "f052abb2",
   "metadata": {},
   "outputs": [],
   "source": [
    "6. If a dictionary is stored in spam, what is the difference between the expressions 'cat' in spam and\n",
    "'cat' in spam.values()?\n",
    "\n",
    "Ans : There is no difference. 'cat' in spam checks whether there is a 'cat' key in the dictionary, while 'cat' in spam. values()       checks whether there is a value 'cat' for one of the keys in spam"
   ]
  },
  {
   "cell_type": "code",
   "execution_count": null,
   "id": "dddb56a1",
   "metadata": {},
   "outputs": [],
   "source": []
  },
  {
   "cell_type": "code",
   "execution_count": null,
   "id": "0e28fa6a",
   "metadata": {},
   "outputs": [],
   "source": [
    "#7. What is a shortcut for the following code?\n",
    "#if 'color' not in spam: \n",
    "#spam['color'] = 'black'\n",
    "\n",
    "spam.setdefault('color','black')"
   ]
  },
  {
   "cell_type": "code",
   "execution_count": null,
   "id": "656f260b",
   "metadata": {},
   "outputs": [],
   "source": []
  },
  {
   "cell_type": "code",
   "execution_count": null,
   "id": "6aa8a7db",
   "metadata": {},
   "outputs": [],
   "source": [
    "8. How do you \"pretty print\" dictionary values using which module and function?\n",
    "    \n",
    "Ans : There are ways to pretty print dictionaries:-\n",
    "using pprint.pprint() and pprint.pformat().\n",
    "using dumps() method of json module\n",
    "using dumps() yaml module."
   ]
  },
  {
   "cell_type": "code",
   "execution_count": 20,
   "id": "c14fdd8f",
   "metadata": {},
   "outputs": [
    {
     "name": "stdout",
     "output_type": "stream",
     "text": [
      "Printing without function : [{'Ankur': {'Age': 26, 'Country': 'India', 'Gender': 'Male', 'Course': ['iNeuron', 'FSDS Bootcamp']}}, {'Abhishek': {'Age': 26, 'Country': 'India', 'Gender': 'Male', 'Job': ['Aviation', 'Nalanda aeronautics', 'Engineer']}}, {'Nitish': {'Age': '26', 'Country': 'India', 'Gender': 'Male', 'Job': ['Software engineer', 'FIS Tech']}}, {'Aryan': {'Age': 26, 'Country': 'India', 'Gender': 'Male', 'Job': ['Administrator', 'NSMCH']}}]\n",
      "----------------------------------------------------------------------------------------------------\n",
      "Printing using pprint function: \n",
      " \n",
      "[{'Ankur': {'Age': 26,\n",
      "            'Country': 'India',\n",
      "            'Course': ['iNeuron', 'FSDS Bootcamp'],\n",
      "            'Gender': 'Male'}},\n",
      " {'Abhishek': {'Age': 26,\n",
      "               'Country': 'India',\n",
      "               'Gender': 'Male',\n",
      "               'Job': ['Aviation', 'Nalanda aeronautics', 'Engineer']}},\n",
      " {'Nitish': {'Age': '26',\n",
      "             'Country': 'India',\n",
      "             'Gender': 'Male',\n",
      "             'Job': ['Software engineer', 'FIS Tech']}},\n",
      " {'Aryan': {'Age': 26,\n",
      "            'Country': 'India',\n",
      "            'Gender': 'Male',\n",
      "            'Job': ['Administrator', 'NSMCH']}}]\n",
      "----------------------------------------------------------------------------------------------------\n",
      "Printing using Json function: \n",
      "  [\n",
      "    {\n",
      "        \"Ankur\": {\n",
      "            \"Age\": 26,\n",
      "            \"Country\": \"India\",\n",
      "            \"Gender\": \"Male\",\n",
      "            \"Course\": [\n",
      "                \"iNeuron\",\n",
      "                \"FSDS Bootcamp\"\n",
      "            ]\n",
      "        }\n",
      "    },\n",
      "    {\n",
      "        \"Abhishek\": {\n",
      "            \"Age\": 26,\n",
      "            \"Country\": \"India\",\n",
      "            \"Gender\": \"Male\",\n",
      "            \"Job\": [\n",
      "                \"Aviation\",\n",
      "                \"Nalanda aeronautics\",\n",
      "                \"Engineer\"\n",
      "            ]\n",
      "        }\n",
      "    },\n",
      "    {\n",
      "        \"Nitish\": {\n",
      "            \"Age\": \"26\",\n",
      "            \"Country\": \"India\",\n",
      "            \"Gender\": \"Male\",\n",
      "            \"Job\": [\n",
      "                \"Software engineer\",\n",
      "                \"FIS Tech\"\n",
      "            ]\n",
      "        }\n",
      "    },\n",
      "    {\n",
      "        \"Aryan\": {\n",
      "            \"Age\": 26,\n",
      "            \"Country\": \"India\",\n",
      "            \"Gender\": \"Male\",\n",
      "            \"Job\": [\n",
      "                \"Administrator\",\n",
      "                \"NSMCH\"\n",
      "            ]\n",
      "        }\n",
      "    }\n",
      "]\n",
      "----------------------------------------------------------------------------------------------------\n",
      "Printing using yaml function: \n",
      "  -   Ankur:\n",
      "        Age: 26\n",
      "        Country: India\n",
      "        Course:\n",
      "        - iNeuron\n",
      "        - FSDS Bootcamp\n",
      "        Gender: Male\n",
      "-   Abhishek:\n",
      "        Age: 26\n",
      "        Country: India\n",
      "        Gender: Male\n",
      "        Job:\n",
      "        - Aviation\n",
      "        - Nalanda aeronautics\n",
      "        - Engineer\n",
      "-   Nitish:\n",
      "        Age: '26'\n",
      "        Country: India\n",
      "        Gender: Male\n",
      "        Job:\n",
      "        - Software engineer\n",
      "        - FIS Tech\n",
      "-   Aryan:\n",
      "        Age: 26\n",
      "        Country: India\n",
      "        Gender: Male\n",
      "        Job:\n",
      "        - Administrator\n",
      "        - NSMCH\n",
      "\n"
     ]
    }
   ],
   "source": [
    "d = [{'Ankur':{'Age':26,'Country':'India','Gender':'Male','Course':['iNeuron','FSDS Bootcamp']}},\n",
    "{'Abhishek':{'Age':26,'Country':'India','Gender':'Male','Job':['Aviation','Nalanda aeronautics','Engineer']}},\n",
    "{'Nitish':{'Age':'26','Country':'India','Gender':'Male','Job':['Software engineer','FIS Tech']}},\n",
    "{'Aryan':{'Age':26,'Country':'India','Gender':'Male','Job':['Administrator','NSMCH']}}]\n",
    "print('Printing without function :',d)\n",
    "print('-'*100)\n",
    "\n",
    "import pprint\n",
    "print('Printing using pprint function: \\n ')\n",
    "pprint.pprint(d)\n",
    "print('-'*100)\n",
    "\n",
    "import json\n",
    "pretty = json.dumps(d, indent=4)\n",
    "print('Printing using Json function: \\n ',pretty)\n",
    "print('-'*100)\n",
    "\n",
    "import yaml\n",
    "pretty1 = yaml.dump(d,indent=4)\n",
    "print('Printing using yaml function: \\n ',pretty1)"
   ]
  },
  {
   "cell_type": "code",
   "execution_count": null,
   "id": "d51d7eb6",
   "metadata": {},
   "outputs": [],
   "source": []
  }
 ],
 "metadata": {
  "kernelspec": {
   "display_name": "Python 3 (ipykernel)",
   "language": "python",
   "name": "python3"
  },
  "language_info": {
   "codemirror_mode": {
    "name": "ipython",
    "version": 3
   },
   "file_extension": ".py",
   "mimetype": "text/x-python",
   "name": "python",
   "nbconvert_exporter": "python",
   "pygments_lexer": "ipython3",
   "version": "3.9.12"
  }
 },
 "nbformat": 4,
 "nbformat_minor": 5
}
