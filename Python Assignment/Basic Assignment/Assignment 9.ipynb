{
 "cells": [
  {
   "cell_type": "code",
   "execution_count": null,
   "id": "c3f46091",
   "metadata": {},
   "outputs": [],
   "source": []
  },
  {
   "cell_type": "code",
   "execution_count": null,
   "id": "d22bd2b3",
   "metadata": {},
   "outputs": [],
   "source": [
    "1. To what does a relative path refer?\n",
    "\n",
    "Ans: A relative path refers to a location that is relative to a current directory. \n",
    "    Relative paths make use of two special symbols, a dot (.) and a double-dot (..), \n",
    "    which translate into the current directory and the parent directory."
   ]
  },
  {
   "cell_type": "code",
   "execution_count": null,
   "id": "88ff25e2",
   "metadata": {},
   "outputs": [],
   "source": []
  },
  {
   "cell_type": "code",
   "execution_count": null,
   "id": "09fc37a6",
   "metadata": {},
   "outputs": [],
   "source": [
    "2. What does an absolute path start with your operating system?\n",
    "\n",
    "Ans: In Linux based Operating systems the absolute path starts with / where as in\n",
    "     Windows based Operating systems absolute path starts with C:\n"
   ]
  },
  {
   "cell_type": "code",
   "execution_count": null,
   "id": "8a22b7fc",
   "metadata": {},
   "outputs": [],
   "source": []
  },
  {
   "cell_type": "code",
   "execution_count": 5,
   "id": "4fff2f7b",
   "metadata": {},
   "outputs": [],
   "source": [
    "#3. What do the functions os.getcwd() and os.chdir() do?\n",
    "\n",
    "#Ans: os.getcwd() - To Get The Working Directory\n",
    "#     os.chdir() - To Change the Working Directory Location"
   ]
  },
  {
   "cell_type": "code",
   "execution_count": null,
   "id": "0abc55d7",
   "metadata": {},
   "outputs": [],
   "source": []
  },
  {
   "cell_type": "code",
   "execution_count": null,
   "id": "1ad30756",
   "metadata": {},
   "outputs": [],
   "source": [
    "#4. What are the . and .. folders?\n",
    "\n",
    "Ans: . Represents the Current Directory Whereas .. Represents the Parent Directory of the Current Directory\n",
    "#For Example: if the below path is my absolute path: \n",
    "'C:\\\\Users\\\\iaman\\\\Python code\\\\Assignment'\n",
    "\n",
    ". Represents 'C:\\\\Users\\\\iaman\\\\Python code\\\\Assignment'\n",
    ".. Represents 'C:\\\\Users\\\\iaman\\\\Python code'"
   ]
  },
  {
   "cell_type": "code",
   "execution_count": null,
   "id": "162049c5",
   "metadata": {},
   "outputs": [],
   "source": []
  },
  {
   "cell_type": "code",
   "execution_count": 11,
   "id": "cf146e86",
   "metadata": {},
   "outputs": [
    {
     "name": "stdout",
     "output_type": "stream",
     "text": [
      "Directory Name :  C:\\bacon\\eggs\n",
      "Base Name :  spam.txt\n"
     ]
    }
   ],
   "source": [
    "#5. In C:\\bacon\\eggs\\spam.txtdirec , which part is the dir name, and which part is the base name?\n",
    "\n",
    "#Ans: C:\\bacon\\eggs\\  --- is the directory name\n",
    "#     spam.txt        --- is the base name\n",
    "\n",
    "import os\n",
    "path = r'C:\\bacon\\eggs\\spam.txt'\n",
    "print('Directory Name : ',os.path.dirname(path))\n",
    "print('Base Name : ',os.path.basename(path))"
   ]
  },
  {
   "cell_type": "code",
   "execution_count": null,
   "id": "452905ff",
   "metadata": {},
   "outputs": [],
   "source": []
  },
  {
   "cell_type": "code",
   "execution_count": null,
   "id": "3afa0004",
   "metadata": {},
   "outputs": [],
   "source": [
    "#6. What are the three “mode” arguments that can be passed to the open() function?\n",
    "\n",
    "Ans: r : Opens the file in read-only mode. ...\n",
    "     rb : Opens the file as read-only in binary format and starts reading from the beginning of the file.\n",
    "     r+ : Opens a file for reading and writing, placing the pointer at the beginning of the file."
   ]
  },
  {
   "cell_type": "code",
   "execution_count": null,
   "id": "674ebca6",
   "metadata": {},
   "outputs": [],
   "source": []
  },
  {
   "cell_type": "code",
   "execution_count": null,
   "id": "feceb410",
   "metadata": {},
   "outputs": [],
   "source": [
    "7. What happens if an existing file is opened in write mode?\n",
    "\n",
    "Ans: Using this mode, we can overwrite any existing content in a file. \n",
    "     If the given file does not exist then a new one will be created.\n"
   ]
  },
  {
   "cell_type": "code",
   "execution_count": null,
   "id": "2819bb92",
   "metadata": {},
   "outputs": [],
   "source": []
  },
  {
   "cell_type": "code",
   "execution_count": null,
   "id": "1f3da2c5",
   "metadata": {},
   "outputs": [],
   "source": [
    "8. How do you tell the difference between read() and readlines()?\n",
    "\n",
    "\n",
    "Ans: The read() will read the whole file at once and then print out the first characters \n",
    "     that take up as many bytes as you specify in the parenthesis.\n",
    "    \n",
    "     The readline() that will read and print out only the first character that take up as many bytes as you specify\n",
    "        in the parenthesis."
   ]
  },
  {
   "cell_type": "code",
   "execution_count": null,
   "id": "26822162",
   "metadata": {},
   "outputs": [],
   "source": []
  },
  {
   "cell_type": "code",
   "execution_count": null,
   "id": "e7eb872d",
   "metadata": {},
   "outputs": [],
   "source": [
    "9. What data structure does a shelf value resemble?\n",
    "\n",
    "Ans: A shelf value resembles a dictionary value; it has keys and values, \n",
    "    along with keys() and values() methods that work similarly to the dictionary methods of the same names."
   ]
  },
  {
   "cell_type": "code",
   "execution_count": null,
   "id": "d3ad1e92",
   "metadata": {},
   "outputs": [],
   "source": []
  }
 ],
 "metadata": {
  "kernelspec": {
   "display_name": "Python 3 (ipykernel)",
   "language": "python",
   "name": "python3"
  },
  "language_info": {
   "codemirror_mode": {
    "name": "ipython",
    "version": 3
   },
   "file_extension": ".py",
   "mimetype": "text/x-python",
   "name": "python",
   "nbconvert_exporter": "python",
   "pygments_lexer": "ipython3",
   "version": "3.9.12"
  }
 },
 "nbformat": 4,
 "nbformat_minor": 5
}
