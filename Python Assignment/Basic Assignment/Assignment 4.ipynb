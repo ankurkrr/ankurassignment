{
 "cells": [
  {
   "cell_type": "markdown",
   "id": "443d4382",
   "metadata": {},
   "source": [
    "# ASSIGNMENT 4"
   ]
  },
  {
   "cell_type": "code",
   "execution_count": null,
   "id": "5973a56a",
   "metadata": {},
   "outputs": [],
   "source": []
  },
  {
   "cell_type": "raw",
   "id": "173d6ca3",
   "metadata": {},
   "source": [
    "1. What exactly is []?\n",
    "\n",
    "Ans: They are used to define \"list literals,\" allowing you to declare a list and its contents in your program.\n",
    "     Index brackets are also used to write expressions that evaluate to a single item within a list, \n",
    "     or a single character in a string.\n",
    "     "
   ]
  },
  {
   "cell_type": "code",
   "execution_count": null,
   "id": "4eac2bd2",
   "metadata": {},
   "outputs": [],
   "source": []
  },
  {
   "cell_type": "code",
   "execution_count": 12,
   "id": "142e9084",
   "metadata": {},
   "outputs": [
    {
     "name": "stdout",
     "output_type": "stream",
     "text": [
      "[2, 4, 6, 8, 10]\n",
      "[2, 4, 'Hello', 8, 10]\n"
     ]
    }
   ],
   "source": [
    "# 2. In a list of values stored in a variable called spam, how would you assign the value \"hello\" as the\n",
    "#    third value? (Assume [2, 4, 6, 8, 10] are in spam.)\n",
    "\n",
    "# Ans:\n",
    "spam = [2,4,6,8,10]\n",
    "print(spam)\n",
    "spam[2] = 'Hello'\n",
    "print(spam)"
   ]
  },
  {
   "cell_type": "code",
   "execution_count": null,
   "id": "a5b56bb9",
   "metadata": {},
   "outputs": [],
   "source": []
  },
  {
   "cell_type": "code",
   "execution_count": null,
   "id": "3cd21993",
   "metadata": {},
   "outputs": [],
   "source": [
    "Let's pretend the spam includes the list ['a','b','c','d'] for the next three queries."
   ]
  },
  {
   "cell_type": "code",
   "execution_count": 14,
   "id": "3e9ae66d",
   "metadata": {},
   "outputs": [
    {
     "data": {
      "text/plain": [
       "'d'"
      ]
     },
     "execution_count": 14,
     "metadata": {},
     "output_type": "execute_result"
    }
   ],
   "source": [
    "#3. What is the value of spam[int(int('3'* 2) / 11)]?\n",
    "spam=['a','b','c','d']\n",
    "spam[int(int('3'* 2) / 11)]\n",
    "\n",
    "Ans : 'd' ('3' * 2 is the string '33', which is passed to int() before being divided by 11. \n",
    "           This eventually evaluates to 3. Expressions can be used wherever values are used.)"
   ]
  },
  {
   "cell_type": "code",
   "execution_count": null,
   "id": "e8019d60",
   "metadata": {
    "scrolled": true
   },
   "outputs": [],
   "source": []
  },
  {
   "cell_type": "code",
   "execution_count": 3,
   "id": "6624b6c9",
   "metadata": {},
   "outputs": [
    {
     "data": {
      "text/plain": [
       "'d'"
      ]
     },
     "execution_count": 3,
     "metadata": {},
     "output_type": "execute_result"
    }
   ],
   "source": [
    "# 4. What is the value of spam[-1]?\n",
    "\n",
    "spam=['a','b','c','d']\n",
    "spam[-1]\n",
    "\n",
    "Ans: 'd' (Lists support Negative indexing, Hence spam[-1] returs 'd'). -1 index returns last item of the list"
   ]
  },
  {
   "cell_type": "code",
   "execution_count": null,
   "id": "d3c660d2",
   "metadata": {},
   "outputs": [],
   "source": []
  },
  {
   "cell_type": "code",
   "execution_count": 5,
   "id": "aace8fe8",
   "metadata": {
    "scrolled": true
   },
   "outputs": [
    {
     "data": {
      "text/plain": [
       "['a', 'b']"
      ]
     },
     "execution_count": 5,
     "metadata": {},
     "output_type": "execute_result"
    }
   ],
   "source": [
    "# 5. What is the value of spam[:2]?\n",
    "\n",
    "spam=['a','b','c','d']\n",
    "spam[:2]\n",
    "\n",
    "Ans : 'a', 'b'"
   ]
  },
  {
   "cell_type": "code",
   "execution_count": null,
   "id": "0c3ec887",
   "metadata": {},
   "outputs": [],
   "source": []
  },
  {
   "cell_type": "raw",
   "id": "efff6382",
   "metadata": {},
   "source": [
    "Let's pretend bacon has the list [3.14, 'cat', 11, 'cat', True] for the next three questions."
   ]
  },
  {
   "cell_type": "code",
   "execution_count": 10,
   "id": "ba4e701f",
   "metadata": {},
   "outputs": [
    {
     "data": {
      "text/plain": [
       "1"
      ]
     },
     "execution_count": 10,
     "metadata": {},
     "output_type": "execute_result"
    }
   ],
   "source": [
    "# 6. What is the value of bacon.index('cat')?\n",
    "\n",
    "bacon = [3.14, 'cat', 11, 'cat', True]\n",
    "bacon.index('cat')\n",
    "\n",
    "Ans : 1"
   ]
  },
  {
   "cell_type": "code",
   "execution_count": null,
   "id": "7f52d194",
   "metadata": {},
   "outputs": [],
   "source": []
  },
  {
   "cell_type": "code",
   "execution_count": 12,
   "id": "da221c52",
   "metadata": {},
   "outputs": [
    {
     "name": "stdout",
     "output_type": "stream",
     "text": [
      "[3.14, 'cat', 11, 'cat', True, 99]\n"
     ]
    }
   ],
   "source": [
    "#7. How does bacon.append(99) change the look of the list value in bacon?\n",
    "\n",
    "#Ans -:\n",
    "bacon = [3.14, 'cat', 11, 'cat', True]\n",
    "bacon.append(99) #append 99 to the end of the list.\n",
    "print(bacon)\n"
   ]
  },
  {
   "cell_type": "code",
   "execution_count": null,
   "id": "5a284c2c",
   "metadata": {},
   "outputs": [],
   "source": []
  },
  {
   "cell_type": "code",
   "execution_count": 13,
   "id": "73c5f303",
   "metadata": {},
   "outputs": [
    {
     "name": "stdout",
     "output_type": "stream",
     "text": [
      "[3.14, 11, 'cat', True, 99]\n"
     ]
    }
   ],
   "source": [
    "#8. How does bacon.remove('cat') change the look of the list in bacon?\n",
    "\n",
    "bacon.remove('cat') #removes the first occurence of the element in the list\n",
    "print(bacon)"
   ]
  },
  {
   "cell_type": "code",
   "execution_count": null,
   "id": "ecab9b8f",
   "metadata": {},
   "outputs": [],
   "source": []
  },
  {
   "cell_type": "code",
   "execution_count": 15,
   "id": "ddaf481b",
   "metadata": {},
   "outputs": [
    {
     "name": "stdout",
     "output_type": "stream",
     "text": [
      "('ML', 'AI', 'SV', 'CV', 'DL', 'iNeuron', 'FSDS')\n",
      "('DL', 'iNeuron', 'FSDS', 'DL', 'iNeuron', 'FSDS')\n"
     ]
    }
   ],
   "source": [
    "#9. What are the list concatenation and list replication operators?\n",
    "\n",
    "#Ans : The operator for list concatenation is +, while the operator for replication is *.\n",
    "\n",
    "list1 = 'ML','AI','SV','CV'\n",
    "list2 = 'DL','iNeuron','FSDS'\n",
    "print(list1+list2)\n",
    "print(list2*2)"
   ]
  },
  {
   "cell_type": "code",
   "execution_count": null,
   "id": "6efc4aa2",
   "metadata": {},
   "outputs": [],
   "source": []
  },
  {
   "cell_type": "code",
   "execution_count": 16,
   "id": "2a0441f9",
   "metadata": {},
   "outputs": [
    {
     "name": "stdout",
     "output_type": "stream",
     "text": [
      "[1, 2, 3, 4, 5, 100]\n",
      "[1, 2, 'iNeuron', 3, 4, 5, 100]\n"
     ]
    }
   ],
   "source": [
    "#10. What is difference between the list methods append() and insert()?\n",
    "\n",
    "list = [1,2,3,4,5]\n",
    "list.append(100)           #Append object to the end of the list.\n",
    "print(list)\n",
    "list.insert(2,'iNeuron')   #Insert object before index anywhere in the list..  \n",
    "print(list)"
   ]
  },
  {
   "cell_type": "code",
   "execution_count": null,
   "id": "911a1045",
   "metadata": {},
   "outputs": [],
   "source": []
  },
  {
   "cell_type": "raw",
   "id": "838076ff",
   "metadata": {},
   "source": [
    "11. What are the two methods for removing items from a list?\n",
    "\n",
    "The del statement and the remove() method are two ways to remove values from a list"
   ]
  },
  {
   "cell_type": "code",
   "execution_count": null,
   "id": "248abe91",
   "metadata": {},
   "outputs": [],
   "source": []
  },
  {
   "cell_type": "raw",
   "id": "bd0cf018",
   "metadata": {},
   "source": [
    "12. Describe how list values and string values are identical.\n",
    "\n",
    "Ans : Both lists and strings can be passed to len() function. \n",
    "      Have indexes and slices, be used in for loops, Can be concatenated or replicated\n",
    "      Can be used with the in and not in operators."
   ]
  },
  {
   "cell_type": "code",
   "execution_count": null,
   "id": "55234661",
   "metadata": {},
   "outputs": [],
   "source": []
  },
  {
   "cell_type": "raw",
   "id": "16091b23",
   "metadata": {},
   "source": [
    "13. What's the difference between tuples and lists?\n",
    "\n",
    "Ans : List is Mutable. It's Iteration is Slower and is Time Consuming\n",
    "      List Consume More Memory. Its operation are more error prone.\n",
    "      List provide many inbuilt method.\n",
    "      List is useful for insertion and deletion operations.\n",
    "      \n",
    "      Tuples is immutable. Tuple iteration is faster.\n",
    "      Tuples consumes less memory. its operations are safe.\n",
    "      Tuples provide less inbuilt method.\n",
    "      Tuples is useful for readonly operations like accessing elements."
   ]
  },
  {
   "cell_type": "code",
   "execution_count": null,
   "id": "8882fa79",
   "metadata": {},
   "outputs": [],
   "source": []
  },
  {
   "cell_type": "code",
   "execution_count": 21,
   "id": "48dbe11d",
   "metadata": {},
   "outputs": [
    {
     "name": "stdout",
     "output_type": "stream",
     "text": [
      "<class 'tuple'>\n",
      "<class 'int'>\n"
     ]
    }
   ],
   "source": [
    "#14. How do you type a tuple value that only contains the integer 42?\n",
    "\n",
    "#Ans : (42,) (The trailing comma is mandatory.)\n",
    "\n",
    "tuple1 = (42,)\n",
    "tuple2 = (42)\n",
    "print(type (tuple1))\n",
    "print(type (tuple2))"
   ]
  },
  {
   "cell_type": "code",
   "execution_count": null,
   "id": "aa90f326",
   "metadata": {},
   "outputs": [],
   "source": []
  },
  {
   "cell_type": "code",
   "execution_count": 28,
   "id": "7cd58373",
   "metadata": {},
   "outputs": [
    {
     "name": "stdout",
     "output_type": "stream",
     "text": [
      "List of Tuples:\n",
      " [(1, 2, 3), ('S', 'P', 'Q')]\n",
      "<class 'list'>\n",
      "Tuple value in List:\n",
      " ([1, 2, 3], ['S', 'P', 'Q', 'R'])\n",
      "<class 'tuple'>\n"
     ]
    }
   ],
   "source": [
    "#15. How do you get a list value's tuple form? How do you get a tuple value's list form?\n",
    "\n",
    "#Ans : The tuple() and list() functions, respectively are used to convert a list to tuple and vice versa\n",
    "\n",
    "lt = [(1,2,3),('S','P','Q')]\n",
    "print(\"List of Tuples:\\n\",lt)\n",
    "print(type(lt))\n",
    "\n",
    "\n",
    "tp = ([1,2,3],['S','P','Q','R'])\n",
    "print(\"Tuple value in List:\\n\",tp)\n",
    "print(type(tp))"
   ]
  },
  {
   "cell_type": "code",
   "execution_count": null,
   "id": "3ede0703",
   "metadata": {},
   "outputs": [],
   "source": []
  },
  {
   "cell_type": "raw",
   "id": "84aae48c",
   "metadata": {},
   "source": [
    "16. Variables that \"contain\" list values are not necessarily lists themselves. Instead, what do they\n",
    "contain?\n",
    "\n",
    "Ans : Variables will contain references to list values rather than list values themselves. \n",
    "      But for strings and integer values, variables simply contain the string or integer value."
   ]
  },
  {
   "cell_type": "code",
   "execution_count": null,
   "id": "4db64b20",
   "metadata": {},
   "outputs": [],
   "source": []
  },
  {
   "cell_type": "raw",
   "id": "945b8104",
   "metadata": {},
   "source": [
    "17. How do you distinguish between copy.copy() and copy.deepcopy()?\n",
    "\n",
    "Ans : copy() create reference to original object. If you change copied object - you change the original object.\n",
    "    \n",
    "      deepcopy() creates new object and does real copying of original object to new one. \n",
    "      Changing new deepcopied object doesn't affect original object."
   ]
  }
 ],
 "metadata": {
  "kernelspec": {
   "display_name": "Python 3 (ipykernel)",
   "language": "python",
   "name": "python3"
  },
  "language_info": {
   "codemirror_mode": {
    "name": "ipython",
    "version": 3
   },
   "file_extension": ".py",
   "mimetype": "text/x-python",
   "name": "python",
   "nbconvert_exporter": "python",
   "pygments_lexer": "ipython3",
   "version": "3.9.12"
  }
 },
 "nbformat": 4,
 "nbformat_minor": 5
}
