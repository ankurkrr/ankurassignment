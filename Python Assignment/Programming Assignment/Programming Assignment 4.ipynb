{
 "cells": [
  {
   "cell_type": "markdown",
   "id": "7e3e2782",
   "metadata": {},
   "source": [
    "# PROGRAMMING ASSIGNMENT 4"
   ]
  },
  {
   "cell_type": "code",
   "execution_count": null,
   "id": "a9d9f070",
   "metadata": {},
   "outputs": [],
   "source": []
  },
  {
   "cell_type": "code",
   "execution_count": null,
   "id": "a9f7e760",
   "metadata": {},
   "outputs": [],
   "source": []
  },
  {
   "cell_type": "code",
   "execution_count": null,
   "id": "93656438",
   "metadata": {},
   "outputs": [],
   "source": []
  },
  {
   "cell_type": "code",
   "execution_count": 1,
   "id": "060416d9",
   "metadata": {},
   "outputs": [
    {
     "name": "stdout",
     "output_type": "stream",
     "text": [
      "Enter Factorial : 50\n",
      "factorial of 50 is 30414093201713378043612608166064768844377641568960512000000000000\n"
     ]
    }
   ],
   "source": [
    "#1. Write a Python Program to Find the Factorial of a Number?\n",
    "\n",
    "f = int(input('Enter Factorial : '))\n",
    "result = 1\n",
    "if f>=0:\n",
    "    for i in range(f,0,-1):\n",
    "        result = result*i\n",
    "    print('factorial of',f,'is',result)\n",
    "if f<0:\n",
    "    print('Factorial of negative no. is not exist')"
   ]
  },
  {
   "cell_type": "code",
   "execution_count": null,
   "id": "874e3bd8",
   "metadata": {},
   "outputs": [],
   "source": []
  },
  {
   "cell_type": "code",
   "execution_count": 2,
   "id": "d9d1fcca",
   "metadata": {},
   "outputs": [
    {
     "name": "stdout",
     "output_type": "stream",
     "text": [
      "Enter Number : 12\n",
      "12 x 1 = 12\n",
      "12 x 2 = 24\n",
      "12 x 3 = 36\n",
      "12 x 4 = 48\n",
      "12 x 5 = 60\n",
      "12 x 6 = 72\n",
      "12 x 7 = 84\n",
      "12 x 8 = 96\n",
      "12 x 9 = 108\n",
      "12 x 10 = 120\n"
     ]
    }
   ],
   "source": [
    "#2. Write a Python Program to Display the multiplication Table?\n",
    "\n",
    "m = int(input('Enter Number : '))\n",
    "for i in range(1,11):\n",
    "    print(m,'x',i,'=',m*i)\n"
   ]
  },
  {
   "cell_type": "code",
   "execution_count": null,
   "id": "201af781",
   "metadata": {},
   "outputs": [],
   "source": []
  },
  {
   "cell_type": "code",
   "execution_count": 23,
   "id": "8298fb02",
   "metadata": {},
   "outputs": [
    {
     "name": "stdout",
     "output_type": "stream",
     "text": [
      "Enter Number of Fibonacci Sequence : 5\n",
      "1\n",
      "1\n",
      "2\n",
      "3\n",
      "5\n"
     ]
    }
   ],
   "source": [
    "#3. Write a Python Program to Print the Fibonacci sequence?\n",
    "\n",
    "num = int(input('Enter Number of Fibonacci Sequence : '))\n",
    "a=0\n",
    "b=1\n",
    "c=0\n",
    "for i in range(num):\n",
    "    a=b\n",
    "    b=c\n",
    "    c=a+b\n",
    "    print(c)"
   ]
  },
  {
   "cell_type": "code",
   "execution_count": null,
   "id": "29d1bb1c",
   "metadata": {},
   "outputs": [],
   "source": []
  },
  {
   "cell_type": "code",
   "execution_count": 4,
   "id": "011eec9f",
   "metadata": {},
   "outputs": [
    {
     "name": "stdout",
     "output_type": "stream",
     "text": [
      "Enter Number : 5226\n",
      "1953\n",
      "The number is not an Armstrong number.\n"
     ]
    }
   ],
   "source": [
    "# 4. Write a Python Program to Check Armstrong Number?\n",
    "n1 = (input('Enter Number : '))\n",
    "length = len(n1)\n",
    "value = 0\n",
    "for i in n1:\n",
    "    a = int(i)**length\n",
    "    value= value+a\n",
    "print(value)\n",
    "if value == int(n1):\n",
    "    print('The number is an Armstrong number!')\n",
    "else:\n",
    "    print('The number is not an Armstrong number.')"
   ]
  },
  {
   "cell_type": "code",
   "execution_count": null,
   "id": "3c790364",
   "metadata": {},
   "outputs": [],
   "source": []
  },
  {
   "cell_type": "code",
   "execution_count": 9,
   "id": "1ac43cd8",
   "metadata": {},
   "outputs": [
    {
     "name": "stdout",
     "output_type": "stream",
     "text": [
      "Enter Number10000\n",
      "0\n",
      "1\n",
      "2\n",
      "3\n",
      "4\n",
      "5\n",
      "6\n",
      "7\n",
      "8\n",
      "9\n",
      "153\n",
      "370\n",
      "371\n",
      "407\n",
      "1634\n",
      "8208\n",
      "9474\n"
     ]
    }
   ],
   "source": [
    "#5. Write a Python Program to Find Armstrong Number in an Interval?\n",
    "ent = int(input('Enter Number'))\n",
    "for i in range(ent+1):\n",
    "    temp=i\n",
    "    result = 0\n",
    "    n = len(str(i))\n",
    "    \n",
    "    while (i!=0):\n",
    "        d= i%10\n",
    "        result = result+d**n\n",
    "        i=i//10\n",
    "    if temp==result:\n",
    "        print(temp)"
   ]
  },
  {
   "cell_type": "code",
   "execution_count": null,
   "id": "c8b6af5e",
   "metadata": {},
   "outputs": [],
   "source": []
  },
  {
   "cell_type": "code",
   "execution_count": null,
   "id": "0583338d",
   "metadata": {},
   "outputs": [],
   "source": []
  },
  {
   "cell_type": "code",
   "execution_count": 22,
   "id": "24fb0d20",
   "metadata": {},
   "outputs": [
    {
     "name": "stdout",
     "output_type": "stream",
     "text": [
      "Enter The Number : 10\n",
      "The Sum is 55\n"
     ]
    }
   ],
   "source": [
    "#6. Write a Python Program to Find the Sum of Natural Numbers?\n",
    "\n",
    "n= int(input('Enter The Number : '))\n",
    "if n<0:\n",
    "    print('Enter The Positive no.')\n",
    "    \n",
    "else:\n",
    "    s = 0\n",
    "    while n>0:\n",
    "        s = s+n\n",
    "        n = n-1\n",
    "    print('The Sum is',s)"
   ]
  },
  {
   "cell_type": "code",
   "execution_count": null,
   "id": "9c0afbe2",
   "metadata": {},
   "outputs": [],
   "source": []
  }
 ],
 "metadata": {
  "kernelspec": {
   "display_name": "Python 3 (ipykernel)",
   "language": "python",
   "name": "python3"
  },
  "language_info": {
   "codemirror_mode": {
    "name": "ipython",
    "version": 3
   },
   "file_extension": ".py",
   "mimetype": "text/x-python",
   "name": "python",
   "nbconvert_exporter": "python",
   "pygments_lexer": "ipython3",
   "version": "3.9.12"
  }
 },
 "nbformat": 4,
 "nbformat_minor": 5
}
