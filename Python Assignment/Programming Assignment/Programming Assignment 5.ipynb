{
 "cells": [
  {
   "cell_type": "markdown",
   "id": "b2e265a9",
   "metadata": {},
   "source": [
    "# Programming Assignment 5"
   ]
  },
  {
   "cell_type": "code",
   "execution_count": null,
   "id": "fc1a6f2f",
   "metadata": {},
   "outputs": [],
   "source": []
  },
  {
   "cell_type": "code",
   "execution_count": null,
   "id": "07233062",
   "metadata": {},
   "outputs": [],
   "source": []
  },
  {
   "cell_type": "code",
   "execution_count": 41,
   "id": "0bdea54b",
   "metadata": {},
   "outputs": [
    {
     "name": "stdout",
     "output_type": "stream",
     "text": [
      "Enter 1st Number 6\n",
      "Enter 2nd Number 5\n",
      "30 are lcm \n"
     ]
    }
   ],
   "source": [
    "#1. Write a Python Program to Find LCM?\n",
    "\n",
    "lcm = int(input('Enter 1st Number '))\n",
    "lcm2= int(input('Enter 2nd Number '))\n",
    "\n",
    "if lcm>lcm2:\n",
    "    mx=lcm\n",
    "else:\n",
    "    mx = lcm2\n",
    "while True:\n",
    "    if (mx%lcm==0 and mx%lcm2==0):\n",
    "        print(mx,'are lcm ')\n",
    "        break\n",
    "    mx=mx+1"
   ]
  },
  {
   "cell_type": "code",
   "execution_count": null,
   "id": "134fb7f2",
   "metadata": {},
   "outputs": [],
   "source": []
  },
  {
   "cell_type": "code",
   "execution_count": 27,
   "id": "411a9373",
   "metadata": {},
   "outputs": [
    {
     "name": "stdout",
     "output_type": "stream",
     "text": [
      "Enter 1st Number : 36\n",
      "Enter 2nd Number : 60\n",
      "The hcf of 36 and 60 is 12\n"
     ]
    }
   ],
   "source": [
    "#2. Write a Python Program to Find HCF?\n",
    "\n",
    "hcf1 = int(input('Enter 1st Number : '))\n",
    "hcf2= int(input('Enter 2nd Number : '))\n",
    "if hcf1>hcf2:\n",
    "    minimum= hcf2\n",
    "else:\n",
    "    minimum=hcf1\n",
    "    \n",
    "for i in range(1, minimum+1):\n",
    "    if hcf1%i==0 and hcf2%i==0:\n",
    "        result=i\n",
    "print('The hcf of',hcf1,'and',hcf2,'is',result)"
   ]
  },
  {
   "cell_type": "code",
   "execution_count": null,
   "id": "9215a596",
   "metadata": {},
   "outputs": [],
   "source": []
  },
  {
   "cell_type": "code",
   "execution_count": 2,
   "id": "ce574d5d",
   "metadata": {
    "scrolled": false
   },
   "outputs": [
    {
     "name": "stdout",
     "output_type": "stream",
     "text": [
      "Enter a Number : 10\n",
      "Binary Number --> 0b1010\n",
      "Octal Number --> 0o12\n",
      "Hexadecimal --> 0xa\n"
     ]
    }
   ],
   "source": [
    "#3. Write a Python Program to Convert Decimal to Binary, Octal and Hexadecimal?\n",
    "\n",
    "def conversion():\n",
    "    num=int(input('Enter a Number : '))\n",
    "    print(f'Binary Number --> {bin(num)}')\n",
    "    print(f'Octal Number --> {oct(num)}')\n",
    "    print(f'Hexadecimal --> {hex(num)}')\n",
    "conversion()"
   ]
  },
  {
   "cell_type": "code",
   "execution_count": null,
   "id": "25c96b90",
   "metadata": {},
   "outputs": [],
   "source": []
  },
  {
   "cell_type": "code",
   "execution_count": 40,
   "id": "51b47a85",
   "metadata": {},
   "outputs": [
    {
     "name": "stdout",
     "output_type": "stream",
     "text": [
      "Enter a Number : S\n",
      "Ascii Character S is--> 83\n"
     ]
    }
   ],
   "source": [
    "#4. Write a Python Program To Find ASCII value of a character?\n",
    "\n",
    "def asc():\n",
    "    num=input('Enter a Number : ')\n",
    "    if len(num) > 1:\n",
    "        print(f'Enter the Single Character')\n",
    "              \n",
    "    else:\n",
    "        print(f'Ascii Character {num} is--> {ord(num)}')\n",
    "    \n",
    "asc()"
   ]
  },
  {
   "cell_type": "code",
   "execution_count": null,
   "id": "65ed7e45",
   "metadata": {},
   "outputs": [],
   "source": []
  },
  {
   "cell_type": "code",
   "execution_count": 39,
   "id": "925baa1b",
   "metadata": {},
   "outputs": [
    {
     "name": "stdout",
     "output_type": "stream",
     "text": [
      "Enter First Number : 6\n",
      "Type Operation : *\n",
      "Enter Second Number : 5\n",
      "Multiplication of 6 * 5 is ---> 30\n"
     ]
    }
   ],
   "source": [
    "#5. Write a Python Program to Make a Simple Calculator with 4 basic mathematical operations?\n",
    "\n",
    "num1 = int(input('Enter First Number : '))\n",
    "calc = input('Type Operation : ')\n",
    "num2 = int(input('Enter Second Number : '))\n",
    "\n",
    "if calc == '+':\n",
    "    print('Addition of',num1,'+',num2,'is --->',num1 + num2)\n",
    "\n",
    "elif calc == '-':\n",
    "    print('Substraction of',num1,'-',num2,'is --->',Num1 - num2)\n",
    "    \n",
    "elif calc == '/':\n",
    "    print('Division of',num1,'/',num2,'is --->',num1 / num2)\n",
    "    \n",
    "elif calc == '*':\n",
    "    print('Multiplication of',num1,'*',num2,'is --->',num1*num2)"
   ]
  },
  {
   "cell_type": "code",
   "execution_count": null,
   "id": "09c8e6ba",
   "metadata": {},
   "outputs": [],
   "source": []
  },
  {
   "cell_type": "code",
   "execution_count": null,
   "id": "58eedb38",
   "metadata": {},
   "outputs": [],
   "source": []
  },
  {
   "cell_type": "code",
   "execution_count": null,
   "id": "859225f4",
   "metadata": {},
   "outputs": [],
   "source": []
  }
 ],
 "metadata": {
  "kernelspec": {
   "display_name": "Python 3 (ipykernel)",
   "language": "python",
   "name": "python3"
  },
  "language_info": {
   "codemirror_mode": {
    "name": "ipython",
    "version": 3
   },
   "file_extension": ".py",
   "mimetype": "text/x-python",
   "name": "python",
   "nbconvert_exporter": "python",
   "pygments_lexer": "ipython3",
   "version": "3.9.12"
  }
 },
 "nbformat": 4,
 "nbformat_minor": 5
}
