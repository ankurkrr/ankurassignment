{
 "cells": [
  {
   "cell_type": "markdown",
   "id": "1c50acaa",
   "metadata": {},
   "source": [
    "# Programming Assignment 1"
   ]
  },
  {
   "cell_type": "code",
   "execution_count": null,
   "id": "45d36f3c",
   "metadata": {},
   "outputs": [],
   "source": []
  },
  {
   "cell_type": "code",
   "execution_count": 1,
   "id": "542853bd",
   "metadata": {},
   "outputs": [
    {
     "name": "stdout",
     "output_type": "stream",
     "text": [
      "Hello Python\n"
     ]
    }
   ],
   "source": [
    "# 1. Write a Python program to print 'Hello Python'?\n",
    "\n",
    "a = 'Hello Python'\n",
    "print(a)"
   ]
  },
  {
   "cell_type": "code",
   "execution_count": null,
   "id": "972087f1",
   "metadata": {},
   "outputs": [],
   "source": []
  },
  {
   "cell_type": "code",
   "execution_count": 2,
   "id": "301df5e7",
   "metadata": {},
   "outputs": [
    {
     "name": "stdout",
     "output_type": "stream",
     "text": [
      "Enter Integer :10\n",
      "Enter Integer :20\n",
      "Addition of 10 and 20 = 30\n",
      "Division of 10 and 20 = 0.5\n"
     ]
    }
   ],
   "source": [
    "#2. Write a Python program to do arithmetical operations addition and division.?\n",
    "\n",
    "a1 = int(input('Enter Integer :'))\n",
    "a2 = int(input('Enter Integer :'))\n",
    "c = a1+a2\n",
    "d = a1/a2\n",
    "print('Addition of',a1,'and',a2,'=',c)\n",
    "print('Division of',a1,'and',a2,'=',d)"
   ]
  },
  {
   "cell_type": "code",
   "execution_count": null,
   "id": "09fb7d47",
   "metadata": {},
   "outputs": [],
   "source": []
  },
  {
   "cell_type": "code",
   "execution_count": 3,
   "id": "f497e67b",
   "metadata": {
    "scrolled": true
   },
   "outputs": [
    {
     "name": "stdout",
     "output_type": "stream",
     "text": [
      "If Base and Height is given\n",
      "Enter Base Of Triangle : 10\n",
      "Enter Height of Triangle : 20\n",
      "Area of Triangle is:  100.0\n",
      "----------------------------------------------------------------------------------------------------\n",
      "if 3 sides of Triangle is given\n",
      "Enter Side 1: 5\n",
      "Enter Side 2: 4\n",
      "Enter Side 3: 7\n",
      "Area of Triangle is:  9.797958971132712\n"
     ]
    }
   ],
   "source": [
    "#3. Write a Python program to find the area of a triangle?\n",
    "print('If Base and Height is given :- ')\n",
    "b = int(input(\"Enter Base Of Triangle : \"))\n",
    "h = int(input(\"Enter Height of Triangle : \"))\n",
    "area = b*h/2\n",
    "print('Area of Triangle is: ',area)\n",
    "print('-'*100)\n",
    "\n",
    "print('if 3 sides of Triangle is given :- ')\n",
    "s1 = int(input('Enter Side 1: '))\n",
    "s2 = int(input('Enter Side 2: '))\n",
    "s3 = int(input('Enter Side 3: '))\n",
    "sm=(s1+s2+s3)/2\n",
    "area1=(sm*(sm-s1)*(sm-s2)*(sm-s3))**0.5\n",
    "print('Area of Triangle is: ',area1)"
   ]
  },
  {
   "cell_type": "code",
   "execution_count": null,
   "id": "ce8d9c4e",
   "metadata": {},
   "outputs": [],
   "source": []
  },
  {
   "cell_type": "code",
   "execution_count": 4,
   "id": "3bf299dc",
   "metadata": {},
   "outputs": [
    {
     "name": "stdout",
     "output_type": "stream",
     "text": [
      "Enter Value X: 4\n",
      "Enter Value Y: 5\n",
      "x :  4\n",
      "Y :  5\n",
      "After Swaping X =  5\n",
      "After Swaping y =  4\n"
     ]
    }
   ],
   "source": [
    "#4. Write a Python program to swap two variables?\n",
    "\n",
    "x = int(input('Enter Value X: '))\n",
    "y = int(input('Enter Value Y: '))\n",
    "print('x : ',x)\n",
    "print('Y : ',y)\n",
    "\n",
    "temp = x\n",
    "x=y\n",
    "y=temp\n",
    "print('After Swaping X = ',x)\n",
    "print('After Swaping y = ',y)"
   ]
  },
  {
   "cell_type": "code",
   "execution_count": null,
   "id": "5fc2a8c9",
   "metadata": {},
   "outputs": [],
   "source": []
  },
  {
   "cell_type": "code",
   "execution_count": 9,
   "id": "c19b821b",
   "metadata": {
    "scrolled": true
   },
   "outputs": [
    {
     "name": "stdout",
     "output_type": "stream",
     "text": [
      "0.6790065834301643\n"
     ]
    }
   ],
   "source": [
    "#5. Write a Python program to generate a random number?\n",
    "\n",
    "import random\n",
    "num = random.random()\n",
    "print(num)"
   ]
  },
  {
   "cell_type": "code",
   "execution_count": null,
   "id": "08b9a9a3",
   "metadata": {},
   "outputs": [],
   "source": []
  }
 ],
 "metadata": {
  "kernelspec": {
   "display_name": "Python 3 (ipykernel)",
   "language": "python",
   "name": "python3"
  },
  "language_info": {
   "codemirror_mode": {
    "name": "ipython",
    "version": 3
   },
   "file_extension": ".py",
   "mimetype": "text/x-python",
   "name": "python",
   "nbconvert_exporter": "python",
   "pygments_lexer": "ipython3",
   "version": "3.9.12"
  }
 },
 "nbformat": 4,
 "nbformat_minor": 5
}
